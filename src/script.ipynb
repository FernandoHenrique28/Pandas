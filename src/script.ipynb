{
 "cells": [
  {
   "cell_type": "markdown",
   "id": "d387ddca",
   "metadata": {},
   "source": [
    "### Vamos importar e visualizar a nossa base"
   ]
  },
  {
   "cell_type": "code",
   "execution_count": null,
   "id": "67161c37",
   "metadata": {},
   "outputs": [],
   "source": [
    "# Importando o pandas"
   ]
  },
  {
   "cell_type": "code",
   "execution_count": 4,
   "id": "10a8da0f",
   "metadata": {},
   "outputs": [],
   "source": [
    "import pandas as pd"
   ]
  },
  {
   "cell_type": "code",
   "execution_count": 5,
   "id": "2c773610",
   "metadata": {},
   "outputs": [],
   "source": [
    "df = pd.read_excel('08. Analisando o engajamento no Instagram.xlsx')\n"
   ]
  },
  {
   "cell_type": "code",
   "execution_count": null,
   "id": "5297ea65",
   "metadata": {},
   "outputs": [],
   "source": [
    "df.head()"
   ]
  },
  {
   "cell_type": "code",
   "execution_count": 7,
   "id": "b201a9e3",
   "metadata": {},
   "outputs": [],
   "source": [
    "# Apagando a coluna \"Visualizações\"\n",
    "df = df.drop(\"Visualizações\",axis=1)"
   ]
  },
  {
   "cell_type": "code",
   "execution_count": null,
   "id": "78183f3a",
   "metadata": {},
   "outputs": [],
   "source": [
    "df.head()"
   ]
  },
  {
   "cell_type": "code",
   "execution_count": null,
   "id": "0cb64493",
   "metadata": {},
   "outputs": [],
   "source": [
    "# Visualizando as 5 últimas linhas"
   ]
  },
  {
   "cell_type": "code",
   "execution_count": null,
   "id": "c8605592",
   "metadata": {},
   "outputs": [],
   "source": [
    "df.tail()"
   ]
  },
  {
   "cell_type": "code",
   "execution_count": null,
   "id": "269cc8ac",
   "metadata": {},
   "outputs": [],
   "source": [
    "# Tamanho da base"
   ]
  },
  {
   "cell_type": "code",
   "execution_count": null,
   "id": "7ae9057b",
   "metadata": {},
   "outputs": [],
   "source": [
    "df.shape"
   ]
  },
  {
   "cell_type": "code",
   "execution_count": null,
   "id": "689b06cc",
   "metadata": {},
   "outputs": [],
   "source": [
    "# Se a base for pequena, o display mostra a base completa"
   ]
  },
  {
   "cell_type": "code",
   "execution_count": null,
   "id": "fc6c1076",
   "metadata": {},
   "outputs": [],
   "source": [
    "display(df)"
   ]
  },
  {
   "cell_type": "code",
   "execution_count": null,
   "id": "79aa692b",
   "metadata": {},
   "outputs": [],
   "source": [
    "# Verificando as informações"
   ]
  },
  {
   "cell_type": "code",
   "execution_count": null,
   "id": "56f3f67f",
   "metadata": {},
   "outputs": [],
   "source": [
    "df.info()"
   ]
  },
  {
   "cell_type": "markdown",
   "id": "9b1aeb55",
   "metadata": {},
   "source": [
    "### Carrossel possui apenas 8 valores não nulos\n",
    "- Vamos entender os valores de carrossel"
   ]
  },
  {
   "cell_type": "code",
   "execution_count": null,
   "id": "24551e89",
   "metadata": {},
   "outputs": [],
   "source": [
    "# Contando os valores que aparecem na coluna Carrossel"
   ]
  },
  {
   "cell_type": "code",
   "execution_count": null,
   "id": "a8c114d1",
   "metadata": {},
   "outputs": [],
   "source": [
    "df.Carrossel.value_counts()"
   ]
  },
  {
   "cell_type": "markdown",
   "id": "09b4c75c",
   "metadata": {},
   "source": [
    "### Tratando os valores nulos"
   ]
  },
  {
   "cell_type": "code",
   "execution_count": null,
   "id": "25aa6504",
   "metadata": {},
   "outputs": [],
   "source": [
    "# Filtrando os valores em que carrossel é nulo"
   ]
  },
  {
   "cell_type": "code",
   "execution_count": null,
   "id": "d50bd6c7",
   "metadata": {},
   "outputs": [],
   "source": [
    "df.loc[df.Carrossel.isnull()].head()"
   ]
  },
  {
   "cell_type": "code",
   "execution_count": 66,
   "id": "e4fb594d",
   "metadata": {},
   "outputs": [],
   "source": [
    "# Buscando valores que NAO sao nulos"
   ]
  },
  {
   "cell_type": "code",
   "execution_count": null,
   "id": "954c4592",
   "metadata": {},
   "outputs": [],
   "source": [
    "df.loc[df.Carrossel.notnull()].head()"
   ]
  },
  {
   "cell_type": "code",
   "execution_count": null,
   "id": "1bfd8de9",
   "metadata": {},
   "outputs": [],
   "source": [
    "# Selecionando apenas a coluna Carrossel"
   ]
  },
  {
   "cell_type": "code",
   "execution_count": null,
   "id": "0e937081",
   "metadata": {},
   "outputs": [],
   "source": [
    "df.loc[df.Carrossel.isnull(),'Carrossel'].head()"
   ]
  },
  {
   "cell_type": "code",
   "execution_count": null,
   "id": "5cad67e6",
   "metadata": {},
   "outputs": [],
   "source": [
    "# Agora vamos atribuir o valor N para essa coluna"
   ]
  },
  {
   "cell_type": "code",
   "execution_count": null,
   "id": "97c67a16",
   "metadata": {},
   "outputs": [],
   "source": [
    "df.loc[df.Carrossel.isnull(),'Carrossel'] = 'N'\n",
    "df.head()"
   ]
  },
  {
   "cell_type": "markdown",
   "id": "8562970f",
   "metadata": {},
   "source": [
    "**Verificando novamente os valores de Carrossel:**"
   ]
  },
  {
   "cell_type": "code",
   "execution_count": null,
   "id": "0ece9ce3",
   "metadata": {},
   "outputs": [],
   "source": [
    "# Verificando novamente os valores dessa coluna"
   ]
  },
  {
   "cell_type": "code",
   "execution_count": null,
   "id": "adfe7005",
   "metadata": {},
   "outputs": [],
   "source": [
    "df.Carrossel.value_counts()"
   ]
  },
  {
   "cell_type": "markdown",
   "id": "521cb806",
   "metadata": {},
   "source": [
    "### Mostrando as informações estatísticas"
   ]
  },
  {
   "cell_type": "code",
   "execution_count": null,
   "id": "63bf723b",
   "metadata": {},
   "outputs": [],
   "source": [
    "# Descrição estatística da base"
   ]
  },
  {
   "cell_type": "code",
   "execution_count": null,
   "id": "465662b6",
   "metadata": {},
   "outputs": [],
   "source": [
    "df_descricao = df.drop(\"Data\",axis=1)\n",
    "df_descricao.describe()"
   ]
  },
  {
   "cell_type": "markdown",
   "id": "2f15ac81",
   "metadata": {},
   "source": [
    "### Visualizando essas informações de maneira gráfica"
   ]
  },
  {
   "cell_type": "code",
   "execution_count": null,
   "id": "879e04e5",
   "metadata": {},
   "outputs": [],
   "source": [
    "# Um gráfico de dispersão ajudaria a entender melhor curtidas e comentários\n",
    "df.plot(kind='scatter',x='Data',y='Curtidas',figsize=(16,8));"
   ]
  },
  {
   "cell_type": "code",
   "execution_count": null,
   "id": "76e4bf04",
   "metadata": {
    "scrolled": true
   },
   "outputs": [],
   "source": [
    "# A escala de curtidas pode estar atrapalhando a visualização, por isso vamos deixar comentários em um gráfico separado\n",
    "df.plot(kind=\"scatter\",x=\"Data\",y=\"Comentários\",color=\"red\",label=\"Comentários\",figsize=(14,8));"
   ]
  },
  {
   "cell_type": "code",
   "execution_count": null,
   "id": "b7b33b91",
   "metadata": {},
   "outputs": [],
   "source": [
    "# Ordenando os valores\n",
    "df.sort_values(by=\"Curtidas\",ascending=False).head()"
   ]
  },
  {
   "cell_type": "code",
   "execution_count": null,
   "id": "ca9fd6d2",
   "metadata": {},
   "outputs": [],
   "source": [
    "# Selecionando os 5 últimos valores "
   ]
  },
  {
   "cell_type": "code",
   "execution_count": null,
   "id": "021732e3",
   "metadata": {},
   "outputs": [],
   "source": [
    "df.sort_values(by=\"Curtidas\",ascending=True).head()"
   ]
  },
  {
   "cell_type": "markdown",
   "id": "4e84b5bb",
   "metadata": {},
   "source": [
    "### Vamos usar o <font color=\"blue\">group by</font> para entender melhor os dados"
   ]
  },
  {
   "cell_type": "code",
   "execution_count": 25,
   "id": "d680955b",
   "metadata": {},
   "outputs": [],
   "source": [
    "# Para melhorar a visualização, vamos criar um padrão no formato dos valores\n",
    "pd.options.display.float_format = '{:,.2f}'.format"
   ]
  },
  {
   "cell_type": "code",
   "execution_count": null,
   "id": "750387f0",
   "metadata": {},
   "outputs": [],
   "source": [
    "# Agrupando as informações por tipo\n",
    "df.groupby(\"Tipo\")[\"Comentários\"].count()"
   ]
  },
  {
   "cell_type": "markdown",
   "id": "39af57a8",
   "metadata": {},
   "source": [
    "**Inclusive é possível agregar por mais de 1 coluna:** <br>"
   ]
  },
  {
   "cell_type": "code",
   "execution_count": null,
   "id": "99284f8f",
   "metadata": {},
   "outputs": [],
   "source": [
    "# Agrupando por Tipo e Pessoas\n",
    "df.groupby([\"Tipo\",\"Pessoas\"])[\"Curtidas\"].mean()"
   ]
  },
  {
   "cell_type": "markdown",
   "id": "c88797d5",
   "metadata": {},
   "source": [
    "**E também aplicar a função de agregação em várias outras colunas:** <br>"
   ]
  },
  {
   "cell_type": "code",
   "execution_count": null,
   "id": "5929ada6",
   "metadata": {},
   "outputs": [],
   "source": [
    "df.groupby([\"Tipo\",\"Pessoas\"])[[\"Curtidas\",'Comentários']].mean()"
   ]
  },
  {
   "cell_type": "markdown",
   "id": "82a0ae24",
   "metadata": {},
   "source": [
    "- O groupby já permite ver que publicações de campanha tem um grande engajamento e com foto de pessoas também"
   ]
  },
  {
   "cell_type": "code",
   "execution_count": null,
   "id": "70101015",
   "metadata": {},
   "outputs": [],
   "source": [
    "df.groupby([\"Tipo\",\"Pessoas\", \"Campanhas\"])[[\"Curtidas\",'Comentários']].mean()"
   ]
  },
  {
   "cell_type": "code",
   "execution_count": null,
   "id": "8af88b91",
   "metadata": {},
   "outputs": [],
   "source": [
    "# Somente para pessoas"
   ]
  },
  {
   "cell_type": "code",
   "execution_count": null,
   "id": "25916d02",
   "metadata": {},
   "outputs": [],
   "source": [
    "df.groupby([\"Pessoas\"])[[\"Curtidas\",'Comentários']].mean()"
   ]
  },
  {
   "cell_type": "code",
   "execution_count": null,
   "id": "e2c216ae",
   "metadata": {},
   "outputs": [],
   "source": [
    "# Somente para campanhas"
   ]
  },
  {
   "cell_type": "code",
   "execution_count": null,
   "id": "8e07b084",
   "metadata": {},
   "outputs": [],
   "source": [
    "df.groupby([\"Campanhas\"])[[\"Curtidas\",'Comentários']].mean()"
   ]
  },
  {
   "cell_type": "markdown",
   "id": "d0ca1d20",
   "metadata": {},
   "source": [
    "- **Quando é uma postagem de campanha, o engajamento também é melhor!**"
   ]
  },
  {
   "cell_type": "code",
   "execution_count": null,
   "id": "49a8cc25",
   "metadata": {},
   "outputs": [],
   "source": [
    "# Podemos também filtrar a base"
   ]
  },
  {
   "cell_type": "code",
   "execution_count": null,
   "id": "0f8035b3",
   "metadata": {},
   "outputs": [],
   "source": [
    "df[df.Tipo == 'Foto'].groupby(\"Carrossel\")[[\"Curtidas\",'Comentários']].mean()"
   ]
  },
  {
   "cell_type": "markdown",
   "id": "6ee130c8",
   "metadata": {},
   "source": [
    "**Colocando pessoas e campanhas juntos podemos ver como se dá essa diferença**"
   ]
  },
  {
   "cell_type": "code",
   "execution_count": 64,
   "id": "3564fc5f",
   "metadata": {},
   "outputs": [],
   "source": [
    "# Agregando por pessoas e campanhas"
   ]
  },
  {
   "cell_type": "code",
   "execution_count": null,
   "id": "b90f08bb",
   "metadata": {},
   "outputs": [],
   "source": [
    "df.groupby([\"Pessoas\", \"Campanhas\"])[[\"Curtidas\",'Comentários']].mean()"
   ]
  },
  {
   "cell_type": "code",
   "execution_count": 65,
   "id": "35b56e69",
   "metadata": {},
   "outputs": [],
   "source": [
    "# Agregando por pessoas, campanhas e tipo"
   ]
  },
  {
   "cell_type": "code",
   "execution_count": null,
   "id": "555dbba2",
   "metadata": {},
   "outputs": [],
   "source": [
    "df.groupby([\"Pessoas\", \"Campanhas\", \"Tipo\"])[[\"Curtidas\",'Comentários']].mean()"
   ]
  },
  {
   "cell_type": "code",
   "execution_count": null,
   "id": "a656f5db",
   "metadata": {},
   "outputs": [],
   "source": [
    "# Filtrando a base apenas onde o tipo é Vídeo"
   ]
  },
  {
   "cell_type": "code",
   "execution_count": null,
   "id": "e196145c",
   "metadata": {},
   "outputs": [],
   "source": [
    "df[df.Tipo == \"Vídeo\"]"
   ]
  }
 ],
 "metadata": {
  "kernelspec": {
   "display_name": "Python 3 (ipykernel)",
   "language": "python",
   "name": "python3"
  },
  "language_info": {
   "codemirror_mode": {
    "name": "ipython",
    "version": 3
   },
   "file_extension": ".py",
   "mimetype": "text/x-python",
   "name": "python",
   "nbconvert_exporter": "python",
   "pygments_lexer": "ipython3",
   "version": "3.11.5"
  }
 },
 "nbformat": 4,
 "nbformat_minor": 5
}
